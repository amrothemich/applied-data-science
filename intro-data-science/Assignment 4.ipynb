{
 "cells": [
  {
   "cell_type": "markdown",
   "metadata": {},
   "source": [
    "---\n",
    "\n",
    "_You are currently looking at **version 1.1** of this notebook. To download notebooks and datafiles, as well as get help on Jupyter notebooks in the Coursera platform, visit the [Jupyter Notebook FAQ](https://www.coursera.org/learn/python-data-analysis/resources/0dhYG) course resource._\n",
    "\n",
    "---"
   ]
  },
  {
   "cell_type": "code",
   "execution_count": 1,
   "metadata": {},
   "outputs": [],
   "source": [
    "import pandas as pd\n",
    "import numpy as np\n",
    "from scipy.stats import ttest_ind"
   ]
  },
  {
   "cell_type": "markdown",
   "metadata": {},
   "source": [
    "# Assignment 4 - Hypothesis Testing\n",
    "This assignment requires more individual learning than previous assignments - you are encouraged to check out the [pandas documentation](http://pandas.pydata.org/pandas-docs/stable/) to find functions or methods you might not have used yet, or ask questions on [Stack Overflow](http://stackoverflow.com/) and tag them as pandas and python related. And of course, the discussion forums are open for interaction with your peers and the course staff.\n",
    "\n",
    "Definitions:\n",
    "* A _quarter_ is a specific three month period, Q1 is January through March, Q2 is April through June, Q3 is July through September, Q4 is October through December.\n",
    "* A _recession_ is defined as starting with two consecutive quarters of GDP decline, and ending with two consecutive quarters of GDP growth.\n",
    "* A _recession bottom_ is the quarter within a recession which had the lowest GDP.\n",
    "* A _university town_ is a city which has a high percentage of university students compared to the total population of the city.\n",
    "\n",
    "**Hypothesis**: University towns have their mean housing prices less effected by recessions. Run a t-test to compare the ratio of the mean price of houses in university towns the quarter before the recession starts compared to the recession bottom. (`price_ratio=quarter_before_recession/recession_bottom`)\n",
    "\n",
    "The following data files are available for this assignment:\n",
    "* From the [Zillow research data site](http://www.zillow.com/research/data/) there is housing data for the United States. In particular the datafile for [all homes at a city level](http://files.zillowstatic.com/research/public/City/City_Zhvi_AllHomes.csv), ```City_Zhvi_AllHomes.csv```, has median home sale prices at a fine grained level.\n",
    "* From the Wikipedia page on college towns is a list of [university towns in the United States](https://en.wikipedia.org/wiki/List_of_college_towns#College_towns_in_the_United_States) which has been copy and pasted into the file ```university_towns.txt```.\n",
    "* From Bureau of Economic Analysis, US Department of Commerce, the [GDP over time](http://www.bea.gov/national/index.htm#gdp) of the United States in current dollars (use the chained value in 2009 dollars), in quarterly intervals, in the file ```gdplev.xls```. For this assignment, only look at GDP data from the first quarter of 2000 onward.\n",
    "\n",
    "Each function in this assignment below is worth 10%, with the exception of ```run_ttest()```, which is worth 50%."
   ]
  },
  {
   "cell_type": "code",
   "execution_count": 2,
   "metadata": {},
   "outputs": [],
   "source": [
    "# Use this dictionary to map state names to two letter acronyms\n",
    "states = {'OH': 'Ohio', 'KY': 'Kentucky', 'AS': 'American Samoa', 'NV': 'Nevada', 'WY': 'Wyoming', 'NA': 'National', 'AL': 'Alabama', 'MD': 'Maryland', 'AK': 'Alaska', 'UT': 'Utah', 'OR': 'Oregon', 'MT': 'Montana', 'IL': 'Illinois', 'TN': 'Tennessee', 'DC': 'District of Columbia', 'VT': 'Vermont', 'ID': 'Idaho', 'AR': 'Arkansas', 'ME': 'Maine', 'WA': 'Washington', 'HI': 'Hawaii', 'WI': 'Wisconsin', 'MI': 'Michigan', 'IN': 'Indiana', 'NJ': 'New Jersey', 'AZ': 'Arizona', 'GU': 'Guam', 'MS': 'Mississippi', 'PR': 'Puerto Rico', 'NC': 'North Carolina', 'TX': 'Texas', 'SD': 'South Dakota', 'MP': 'Northern Mariana Islands', 'IA': 'Iowa', 'MO': 'Missouri', 'CT': 'Connecticut', 'WV': 'West Virginia', 'SC': 'South Carolina', 'LA': 'Louisiana', 'KS': 'Kansas', 'NY': 'New York', 'NE': 'Nebraska', 'OK': 'Oklahoma', 'FL': 'Florida', 'CA': 'California', 'CO': 'Colorado', 'PA': 'Pennsylvania', 'DE': 'Delaware', 'NM': 'New Mexico', 'RI': 'Rhode Island', 'MN': 'Minnesota', 'VI': 'Virgin Islands', 'NH': 'New Hampshire', 'MA': 'Massachusetts', 'GA': 'Georgia', 'ND': 'North Dakota', 'VA': 'Virginia'}"
   ]
  },
  {
   "cell_type": "code",
   "execution_count": 4,
   "metadata": {
    "scrolled": false
   },
   "outputs": [
    {
     "data": {
      "text/html": [
       "<div>\n",
       "<style scoped>\n",
       "    .dataframe tbody tr th:only-of-type {\n",
       "        vertical-align: middle;\n",
       "    }\n",
       "\n",
       "    .dataframe tbody tr th {\n",
       "        vertical-align: top;\n",
       "    }\n",
       "\n",
       "    .dataframe thead th {\n",
       "        text-align: right;\n",
       "    }\n",
       "</style>\n",
       "<table border=\"1\" class=\"dataframe\">\n",
       "  <thead>\n",
       "    <tr style=\"text-align: right;\">\n",
       "      <th></th>\n",
       "      <th>State</th>\n",
       "      <th>RegionName</th>\n",
       "    </tr>\n",
       "  </thead>\n",
       "  <tbody>\n",
       "    <tr>\n",
       "      <th>0</th>\n",
       "      <td>Alabama</td>\n",
       "      <td>Auburn</td>\n",
       "    </tr>\n",
       "    <tr>\n",
       "      <th>1</th>\n",
       "      <td>Alabama</td>\n",
       "      <td>Florence</td>\n",
       "    </tr>\n",
       "    <tr>\n",
       "      <th>2</th>\n",
       "      <td>Alabama</td>\n",
       "      <td>Jacksonville</td>\n",
       "    </tr>\n",
       "    <tr>\n",
       "      <th>3</th>\n",
       "      <td>Alabama</td>\n",
       "      <td>Livingston</td>\n",
       "    </tr>\n",
       "    <tr>\n",
       "      <th>4</th>\n",
       "      <td>Alabama</td>\n",
       "      <td>Montevallo</td>\n",
       "    </tr>\n",
       "  </tbody>\n",
       "</table>\n",
       "</div>"
      ],
      "text/plain": [
       "     State    RegionName\n",
       "0  Alabama        Auburn\n",
       "1  Alabama      Florence\n",
       "2  Alabama  Jacksonville\n",
       "3  Alabama    Livingston\n",
       "4  Alabama    Montevallo"
      ]
     },
     "execution_count": 4,
     "metadata": {},
     "output_type": "execute_result"
    }
   ],
   "source": [
    "def get_list_of_university_towns():\n",
    "    '''Returns a DataFrame of towns and the states they are in from the \n",
    "    university_towns.txt list. The format of the DataFrame should be:\n",
    "    DataFrame( [ [\"Michigan\", \"Ann Arbor\"], [\"Michigan\", \"Yipsilanti\"] ], \n",
    "    columns=[\"State\", \"RegionName\"]  )\n",
    "    \n",
    "    The following cleaning needs to be done:\n",
    "\n",
    "    1. For \"State\", removing characters from \"[\" to the end.\n",
    "    2. For \"RegionName\", when applicable, removing every character from \" (\" to the end.\n",
    "    3. Depending on how you read the data, you may need to remove newline character '\\n'. '''\n",
    "    file = open('university_towns.txt')\n",
    "    txt = file.read()\n",
    "    \n",
    "    txt = txt.split('\\n')[:-1]\n",
    "    university_towns = []\n",
    "    for line in txt:\n",
    "        if '[edit]' in line:\n",
    "            state = line[:-6]\n",
    "        else:\n",
    "            university_towns.append(([state, line.split(' (')[0]]))\n",
    "    return pd.DataFrame(university_towns, columns=['State', 'RegionName'])\n",
    "\n",
    "\n",
    "get_list_of_university_towns().head()"
   ]
  },
  {
   "cell_type": "code",
   "execution_count": 5,
   "metadata": {},
   "outputs": [
    {
     "data": {
      "text/plain": [
       "'2008q3'"
      ]
     },
     "execution_count": 5,
     "metadata": {},
     "output_type": "execute_result"
    }
   ],
   "source": [
    "def get_recession_start():\n",
    "    '''Returns the year and quarter of the recession start time as a \n",
    "    string value in a format such as 2005q3'''\n",
    "    df_gdp = pd.read_excel('gdplev.xls', skiprows=220, usecols=[4,6], index_col=0, names=['Quarter', 'GDP'], header=None)\n",
    "    df_gdp['Recession'] = False\n",
    "    \n",
    "    for i in range(2,len(df_gdp) - 2):\n",
    "        gdp_2ago_q = df_gdp.iloc[i-2,0]\n",
    "        gdp_last_q = df_gdp.iloc[i-1,0]\n",
    "        gdp_this_q = df_gdp.iloc[i,0]\n",
    "        gdp_next_q = df_gdp.iloc[i+1,0]\n",
    "        gdp_ = df_gdp.iloc[i+2,0]\n",
    "        last_quarter_is_recession = df_gdp.iloc[i-1,1]\n",
    "        \n",
    "        # Start of recession\n",
    "        if (not last_quarter_is_recession and (gdp_last_q > gdp_this_q > gdp_next_q)):\n",
    "            df_gdp.iloc[i,1] = True\n",
    "        # End of recession\n",
    "        elif (last_quarter_is_recession and (gdp_this_q > gdp_last_q > gdp_2ago_q)):\n",
    "            df_gdp.iloc[i,1] = False\n",
    "        # Middle of recession\n",
    "        else:\n",
    "            df_gdp.iloc[i,1] = last_quarter_is_recession\n",
    "\n",
    "    return df_gdp[df_gdp['Recession'] == True].iloc[0].name\n",
    "\n",
    "get_recession_start()"
   ]
  },
  {
   "cell_type": "code",
   "execution_count": 6,
   "metadata": {},
   "outputs": [
    {
     "data": {
      "text/plain": [
       "'2009q4'"
      ]
     },
     "execution_count": 6,
     "metadata": {},
     "output_type": "execute_result"
    }
   ],
   "source": [
    "def get_recession_end():\n",
    "    df_gdp = pd.read_excel('gdplev.xls', skiprows=220, usecols=[4,6], index_col=0, names=['Quarter', 'GDP'], header=None)\n",
    "    df_gdp['Recession'] = False\n",
    "    \n",
    "    for i in range(2, len(df_gdp) - 2):\n",
    "        gdp_2ago_q = df_gdp.iloc[i-2,0]\n",
    "        gdp_last_q = df_gdp.iloc[i-1,0]\n",
    "        gdp_this_q = df_gdp.iloc[i,0]\n",
    "        gdp_next_q = df_gdp.iloc[i+1,0]\n",
    "        gdp_ = df_gdp.iloc[i+2,0]\n",
    "        last_quarter_is_recession = df_gdp.iloc[i-1,1]\n",
    "        \n",
    "        # Start of recession\n",
    "        if (not last_quarter_is_recession and (gdp_last_q > gdp_this_q > gdp_next_q)):\n",
    "            df_gdp.iloc[i,1] = True\n",
    "        # End of recession\n",
    "        elif (last_quarter_is_recession and (gdp_this_q > gdp_last_q > gdp_2ago_q)):\n",
    "            df_gdp.iloc[i,1] = False\n",
    "        # Middle of recession\n",
    "        else:\n",
    "            df_gdp.iloc[i,1] = last_quarter_is_recession\n",
    "    for i in range(1, len(df_gdp)):\n",
    "        if (not df_gdp.iloc[i,1] and df_gdp.iloc[i-1,1]):\n",
    "            return df_gdp.iloc[i].name\n",
    "    return\n",
    "\n",
    "get_recession_end()"
   ]
  },
  {
   "cell_type": "code",
   "execution_count": 7,
   "metadata": {},
   "outputs": [
    {
     "data": {
      "text/plain": [
       "'2009q2'"
      ]
     },
     "execution_count": 7,
     "metadata": {},
     "output_type": "execute_result"
    }
   ],
   "source": [
    "def get_recession_bottom():\n",
    "    \n",
    "    df_gdp = pd.read_excel('gdplev.xls', skiprows=220, usecols=[4,6], index_col=0, names=['Quarter', 'GDP'], header=None)\n",
    "    df_gdp['Recession'] = False\n",
    "    \n",
    "    for i in range(2, len(df_gdp) - 2):\n",
    "        gdp_2ago_q = df_gdp.iloc[i-2,0]\n",
    "        gdp_last_q = df_gdp.iloc[i-1,0]\n",
    "        gdp_this_q = df_gdp.iloc[i,0]\n",
    "        gdp_next_q = df_gdp.iloc[i+1,0]\n",
    "        gdp_ = df_gdp.iloc[i+2,0]\n",
    "        last_quarter_is_recession = df_gdp.iloc[i-1,1]\n",
    "        \n",
    "        # Start of recession\n",
    "        if (not last_quarter_is_recession and (gdp_last_q > gdp_this_q > gdp_next_q)):\n",
    "            df_gdp.iloc[i,1] = True\n",
    "            recession_min = df_gdp.iloc[i,0]\n",
    "            min_quarter = df_gdp.iloc[i].name\n",
    "        # End of recession\n",
    "        elif (last_quarter_is_recession and (gdp_this_q > gdp_last_q > gdp_2ago_q)):\n",
    "            df_gdp.iloc[i,1] = False\n",
    "        # No transition\n",
    "        elif (last_quarter_is_recession):\n",
    "            df_gdp.iloc[i,1] = last_quarter_is_recession\n",
    "            if (df_gdp.iloc[i,0] < recession_min):\n",
    "                recession_min = df_gdp.iloc[i,0]\n",
    "                min_quarter = df_gdp.iloc[i].name\n",
    "        else:\n",
    "            df_gdp.iloc[i,1] = last_quarter_is_recession\n",
    "            \n",
    "    return min_quarter\n",
    "\n",
    "\n",
    "get_recession_bottom()"
   ]
  },
  {
   "cell_type": "code",
   "execution_count": 8,
   "metadata": {},
   "outputs": [],
   "source": [
    "def convert_housing_data_to_quarters():\n",
    "    '''Converts the housing data to quarters and returns it as mean \n",
    "    values in a dataframe. This dataframe should be a dataframe with\n",
    "    columns for 2000q1 through 2016q3, and should have a multi-index\n",
    "    in the shape of [\"State\",\"RegionName\"].\n",
    "    \n",
    "    Note: Quarters are defined in the assignment description, they are\n",
    "    not arbitrary three month periods.\n",
    "    \n",
    "    The resulting dataframe should have 67 columns, and 10,730 rows.\n",
    "    '''\n",
    "    df_housing = pd.read_csv('City_Zhvi_AllHomes.csv')\n",
    "    cols_to_drop = ['Metro', 'CountyName', 'SizeRank', 'RegionID','1996-04', \n",
    "                      '1996-05', '1996-06', '1996-07', '1996-08', \n",
    "                      '1996-09', '1996-10', '1996-11', '1996-12', \n",
    "                      '1997-01', '1997-02', '1997-03', '1997-04', \n",
    "                      '1997-05', '1997-06', '1997-07', '1997-08', \n",
    "                      '1997-09', '1997-10', '1997-11', '1997-12', \n",
    "                      '1998-01', '1998-02', '1998-03', '1998-04', \n",
    "                      '1998-05', '1998-06', '1998-07', '1998-08', \n",
    "                      '1998-09', '1998-10', '1998-11', '1998-12', \n",
    "                      '1999-01', '1999-02', '1999-03', '1999-04', \n",
    "                      '1999-05', '1999-06', '1999-07', '1999-08', \n",
    "                      '1999-09', '1999-10', '1999-11', '1999-12']\n",
    "    df_housing = df_housing.drop(cols_to_drop, axis=1)\n",
    "    df_housing['State'] = df_housing['State'].map(states)\n",
    "    df_housing = df_housing.set_index(['State', 'RegionName'])\n",
    "\n",
    "    def to_quarter(row, *args):\n",
    "        prices = []\n",
    "        for month in args:\n",
    "            prices.append(row[month])\n",
    "        return np.mean(prices)\n",
    "\n",
    "    quarter_format = '%4dq%d'\n",
    "    date_format = '%4d-%02d'\n",
    "    for year in range(2000, 2017):\n",
    "        for quarter in range(1,5):\n",
    "            if (quarter > 3 and year >= 2016):\n",
    "                pass\n",
    "            else:\n",
    "                opening_month = ((quarter - 1) * 3) + 1\n",
    "                months = []\n",
    "                for month in range(opening_month, opening_month + 3):\n",
    "                    if (year == 2016 and month >= 9):\n",
    "                        pass\n",
    "                    else:\n",
    "                        months.append(date_format % (year, month))\n",
    "                quarter_name = quarter_format % (year, quarter)\n",
    "                df_housing[quarter_name] = df_housing.apply(to_quarter, axis=1, args=months)\n",
    "                df_housing.drop(months, inplace=True, axis=1)\n",
    "    return df_housing"
   ]
  },
  {
   "cell_type": "code",
   "execution_count": 9,
   "metadata": {},
   "outputs": [
    {
     "data": {
      "text/plain": [
       "('True', 0.009243914359628132, 'university town')"
      ]
     },
     "execution_count": 9,
     "metadata": {},
     "output_type": "execute_result"
    }
   ],
   "source": [
    "def run_ttest():\n",
    "    '''First creates new data showing the decline or growth of housing prices\n",
    "    between the recession start and the recession bottom. Then runs a ttest\n",
    "    comparing the university town values to the non-university towns values, \n",
    "    return whether the alternative hypothesis (that the two groups are the same)\n",
    "    is true or not as well as the p-value of the confidence. \n",
    "    \n",
    "    Return the tuple (different, p, better) where different=True if the t-test is\n",
    "    True at a p<0.01 (we reject the null hypothesis), or different=False if \n",
    "    otherwise (we cannot reject the null hypothesis). The variable p should\n",
    "    be equal to the exact p value returned from scipy.stats.ttest_ind(). The\n",
    "    value for better should be either \"university town\" or \"non-university town\"\n",
    "    depending on which has a lower mean price ratio (which is equivilent to a\n",
    "    reduced market loss).'''\n",
    "    \n",
    "    # Load university towns dataframe\n",
    "    university_towns = get_list_of_university_towns()\n",
    "    # set marker column to identify university towns after merge\n",
    "    university_towns['University'] = True\n",
    "    \n",
    "    # Merge above df with housing quarters\n",
    "    df_combined = pd.merge(convert_housing_data_to_quarters(), university_towns, left_index=True, right_on=['State', 'RegionName'], how='outer')\n",
    "    # set non-university towns to False\n",
    "    df_combined['University'].fillna(False, inplace=True)\n",
    "    # Set crash = bottom of recession / start of recession (price ratio)\n",
    "    df_combined['Crash'] = df_combined[get_recession_bottom()] / df_combined[get_recession_start()]\n",
    "    df_combined.set_index('RegionName', inplace=True)\n",
    "    # Drop unneeded columns and NA values\n",
    "    df_combined = (df_combined[['University', 'Crash']].dropna())\n",
    "    \n",
    "    # Create 2 series with only price ratios for university\n",
    "    s_university = df_combined[df_combined['University'] == True]['Crash']\n",
    "    # Create 2 series with only price ratios for non-university\n",
    "    s_not_university = df_combined[df_combined['University'] == False]['Crash']\n",
    "    \n",
    "    better = \"university town\" if np.mean(s_university) > np.mean(s_not_university) else \"non-university town\"\n",
    "    t_result = ttest_ind(s_university, s_not_university)\n",
    "\n",
    "    \n",
    "    \n",
    "    p_value = t_result.pvalue\n",
    "    different = \"True\" if p_value < .01 else False\n",
    "\n",
    "    \n",
    "    return (different, p_value, better)\n",
    "\n",
    "run_ttest()"
   ]
  },
  {
   "cell_type": "code",
   "execution_count": null,
   "metadata": {},
   "outputs": [],
   "source": []
  }
 ],
 "metadata": {
  "coursera": {
   "course_slug": "python-data-analysis",
   "graded_item_id": "Il9Fx",
   "launcher_item_id": "TeDW0",
   "part_id": "WGlun"
  },
  "kernelspec": {
   "display_name": "Python 3",
   "language": "python",
   "name": "python3"
  },
  "language_info": {
   "codemirror_mode": {
    "name": "ipython",
    "version": 3
   },
   "file_extension": ".py",
   "mimetype": "text/x-python",
   "name": "python",
   "nbconvert_exporter": "python",
   "pygments_lexer": "ipython3",
   "version": "3.7.3"
  }
 },
 "nbformat": 4,
 "nbformat_minor": 1
}
